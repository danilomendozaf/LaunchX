{
 "cells": [
  {
   "cell_type": "code",
   "execution_count": 15,
   "metadata": {},
   "outputs": [
    {
     "name": "stdout",
     "output_type": "stream",
     "text": [
      "¡Alerta! ¡Un asteroide se acerca con gran velocidad!\n"
     ]
    }
   ],
   "source": [
    "asteroide = 49 \n",
    "if asteroide>25:\n",
    "    print ('¡Alerta! ¡Un asteroide se acerca con gran velocidad!')\n",
    "else :\n",
    "    print ('Todo bien,todo correcto :D')\n",
    "\n",
    "\n",
    " "
   ]
  },
  {
   "cell_type": "code",
   "execution_count": 13,
   "metadata": {},
   "outputs": [
    {
     "name": "stdout",
     "output_type": "stream",
     "text": [
      "Nada que ver por el momento :(\n"
     ]
    }
   ],
   "source": [
    "asteroide = 19\n",
    "if asteroide >20:\n",
    "    print ('Mira el espectaculo del cielo :D')\n",
    "elif asteroide== 20:\n",
    "     print ('Mira el espectacilo del cielo :D')\n",
    "else:\n",
    "    print ('Nada que ver por el momento :(')\n",
    "\n",
    "\n",
    "\n"
   ]
  },
  {
   "cell_type": "code",
   "execution_count": 16,
   "metadata": {},
   "outputs": [
    {
     "name": "stdout",
     "output_type": "stream",
     "text": [
      "Mira el espectacilo del cielo :D\n"
     ]
    }
   ],
   "source": [
    "velocidad_asteroide = 25\n",
    "tamano_asteroide = 40\n",
    "if velocidad_asteroide > 25 and tamano_asteroide > 25:\n",
    "    print('¡Alerta! ¡Un asteroide se acerca con gran velocidad!')\n",
    "elif velocidad_asteroide >= 20:\n",
    "    print('Mira el espectacilo del cielo :D')\n",
    "elif tamano_asteroide < 25:\n",
    "    print('Nada que ver por el momento :(')\n",
    "else:\n",
    "    print('Nada que ver por el momento :(')"
   ]
  }
 ],
 "metadata": {
  "interpreter": {
   "hash": "69eb92836b941e979072a76c7fcfffe5419cca933cedd02cfafbdfca1a93358c"
  },
  "kernelspec": {
   "display_name": "Python 3.9.10 64-bit",
   "language": "python",
   "name": "python3"
  },
  "language_info": {
   "codemirror_mode": {
    "name": "ipython",
    "version": 3
   },
   "file_extension": ".py",
   "mimetype": "text/x-python",
   "name": "python",
   "nbconvert_exporter": "python",
   "pygments_lexer": "ipython3",
   "version": "3.9.10"
  },
  "orig_nbformat": 4
 },
 "nbformat": 4,
 "nbformat_minor": 2
}
