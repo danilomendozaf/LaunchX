{
 "cells": [
  {
   "cell_type": "code",
   "execution_count": 1,
   "metadata": {},
   "outputs": [
    {
     "name": "stdout",
     "output_type": "stream",
     "text": [
      "\n",
      "On average, the Moon moves 4cm away from the Earth every year\n",
      "The highest daylight temperature of the Moon is 127 Celcius.\n"
     ]
    }
   ],
   "source": [
    "text = \"\"\"Interesting facts about the Moon. The Moon is Earth's only satellite. There are several interesting facts about the Moon and how it affects life here on Earth. \n",
    "On average, the Moon moves 4cm away from the Earth every year. This yearly drift is not significant enough to cause immediate effects on Earth. The highest daylight temperature of the Moon is 127 C.\"\"\"\n",
    "\n",
    "sentences = text.split('. ')\n",
    "\n",
    "clues = [\"average\", \"temperature\", \"distance\"]\n",
    "\n",
    "# ciclo para recorrer cada sentence\n",
    "for sentence in sentences:\n",
    "    # otro ciclo para recorrer cada pista\n",
    "    for clue in clues:\n",
    "        # validación\n",
    "        if clue in sentence:\n",
    "            print(sentence.replace(' C', ' Celcius'))\n",
    "            break # por que el break"
   ]
  },
  {
   "cell_type": "code",
   "execution_count": 2,
   "metadata": {},
   "outputs": [
    {
     "name": "stdout",
     "output_type": "stream",
     "text": [
      "Datos acerca de la gravedad en la Moon\n",
      "-------------------------------------------------- \n",
      "Planet Name: Earth\n",
      "Gravity in Ganymede: 0.00162 m/s2\n",
      "\n",
      "Datos acerca de la gravedad en la Moon\n",
      "-------------------------------------------------- \n",
      "Planet Name: Earth\n",
      "Gravity in Ganymede: 0.00162 m/s2\n",
      "\n"
     ]
    }
   ],
   "source": [
    "name = \"Moon\"\n",
    "gravity = 0.00162 # in kms\n",
    "planet = \"Earth\"\n",
    "\n",
    "title = f'Datos acerca de la gravedad en la {name.title()}'\n",
    "\n",
    "templete = f\"\"\"{title}\n",
    "{'-'*50} \n",
    "Planet Name: {planet}\n",
    "Gravity in Ganymede: {gravity} m/s2\n",
    "\"\"\".format(title=title, planet=planet, gravity=gravity*1000)\n",
    "\n",
    "print(templete)\n",
    "\n",
    "print(templete.format(title=title, planet=planet, gravity=gravity*1000))"
   ]
  }
 ],
 "metadata": {
  "interpreter": {
   "hash": "69eb92836b941e979072a76c7fcfffe5419cca933cedd02cfafbdfca1a93358c"
  },
  "kernelspec": {
   "display_name": "Python 3.9.10 64-bit",
   "language": "python",
   "name": "python3"
  },
  "language_info": {
   "codemirror_mode": {
    "name": "ipython",
    "version": 3
   },
   "file_extension": ".py",
   "mimetype": "text/x-python",
   "name": "python",
   "nbconvert_exporter": "python",
   "pygments_lexer": "ipython3",
   "version": "3.9.10"
  },
  "orig_nbformat": 4
 },
 "nbformat": 4,
 "nbformat_minor": 2
}
